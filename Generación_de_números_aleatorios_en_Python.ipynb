{
  "nbformat": 4,
  "nbformat_minor": 0,
  "metadata": {
    "colab": {
      "provenance": [],
      "authorship_tag": "ABX9TyNZB/4pgD4VbYSHQ9oKrn66",
      "include_colab_link": true
    },
    "kernelspec": {
      "name": "python3",
      "display_name": "Python 3"
    },
    "language_info": {
      "name": "python"
    }
  },
  "cells": [
    {
      "cell_type": "markdown",
      "metadata": {
        "id": "view-in-github",
        "colab_type": "text"
      },
      "source": [
        "<a href=\"https://colab.research.google.com/github/Hector621/Simulacion/blob/main/Generaci%C3%B3n_de_n%C3%BAmeros_aleatorios_en_Python.ipynb\" target=\"_parent\"><img src=\"https://colab.research.google.com/assets/colab-badge.svg\" alt=\"Open In Colab\"/></a>"
      ]
    },
    {
      "cell_type": "code",
      "execution_count": null,
      "metadata": {
        "colab": {
          "base_uri": "https://localhost:8080/"
        },
        "id": "_Hsl0FX4JTw_",
        "outputId": "514bb556-de18-4123-e144-18e05c0ff189"
      },
      "outputs": [
        {
          "output_type": "stream",
          "name": "stdout",
          "text": [
            "Centros al Cuadrado: [0.5227, 0.3215, 0.3362, 0.303, 0.1809, 0.2724, 0.4201, 0.6484, 0.0422, 0.178]\n",
            "Medios Cuadrados: [0.1522, 0.2316, 0.5363, 0.8761, 0.6755, 0.563, 0.1696, 0.2876, 0.8271, 0.8409]\n"
          ]
        }
      ],
      "source": [
        "# Función para generar números por el método de centros al cuadrado\n",
        "def centros_al_cuadrado(semilla, cantidad):\n",
        "    numeros = []\n",
        "    for _ in range(cantidad):\n",
        "        cuadrado = str(semilla ** 2).zfill(8)\n",
        "        semilla = int(cuadrado[2:6])\n",
        "        numeros.append(semilla / 10000)\n",
        "    return numeros\n",
        "\n",
        "# Función para generar números por el método de medios cuadrados\n",
        "def medios_cuadrados(semilla, cantidad):\n",
        "    numeros = []\n",
        "    for _ in range(cantidad):\n",
        "        cuadrado = str(semilla ** 2).zfill(8)\n",
        "        semilla = int(cuadrado[1:5])\n",
        "        numeros.append(semilla / 10000)\n",
        "    return numeros\n",
        "\n",
        "semilla_inicial = 1234\n",
        "\n",
        "# Generara 100 números por ambos métodos\n",
        "numeros_centros = centros_al_cuadrado(semilla_inicial, 100)\n",
        "numeros_medios = medios_cuadrados(semilla_inicial, 100)\n",
        "\n",
        "# Mostrara los primeros 10 números generados por cada método\n",
        "print(\"Centros al Cuadrado:\", numeros_centros[:10])\n",
        "print(\"Medios Cuadrados:\", numeros_medios[:10])\n"
      ]
    }
  ]
}