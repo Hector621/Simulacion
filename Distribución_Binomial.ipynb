{
  "nbformat": 4,
  "nbformat_minor": 0,
  "metadata": {
    "colab": {
      "provenance": [],
      "authorship_tag": "ABX9TyNqn7/eNt+0hz51cv0fvoI7",
      "include_colab_link": true
    },
    "kernelspec": {
      "name": "python3",
      "display_name": "Python 3"
    },
    "language_info": {
      "name": "python"
    }
  },
  "cells": [
    {
      "cell_type": "markdown",
      "metadata": {
        "id": "view-in-github",
        "colab_type": "text"
      },
      "source": [
        "<a href=\"https://colab.research.google.com/github/Hector621/Simulacion/blob/main/Distribuci%C3%B3n_Binomial.ipynb\" target=\"_parent\"><img src=\"https://colab.research.google.com/assets/colab-badge.svg\" alt=\"Open In Colab\"/></a>"
      ]
    },
    {
      "cell_type": "code",
      "execution_count": 1,
      "metadata": {
        "colab": {
          "base_uri": "https://localhost:8080/"
        },
        "id": "SSMDqul2OB-d",
        "outputId": "d3f0bb08-6f1e-436c-e33d-7e14222d84fe"
      },
      "outputs": [
        {
          "output_type": "stream",
          "name": "stdout",
          "text": [
            "Pedidos satisfechos por día durante la semana: [17 14 15 15 13 16 16]\n",
            "Promedio de pedidos satisfechos al día: 15.142857142857142\n"
          ]
        }
      ],
      "source": [
        "import numpy as np\n",
        "from scipy.stats import binom\n",
        "\n",
        "# Parámetros de la simulación\n",
        "pedidos_por_dia = 20        # Número de pedidos recibidos por día\n",
        "probabilidad_exito = 0.7    # Probabilidad de cumplir un pedido\n",
        "dias = 7                    # Días de simulación (una semana)\n",
        "\n",
        "# Simulación del número de pedidos satisfechos por día\n",
        "pedidos_satisfechos = binom.rvs(n=pedidos_por_dia, p=probabilidad_exito, size=dias)\n",
        "\n",
        "# Mostrar los resultados\n",
        "print(\"Pedidos satisfechos por día durante la semana:\", pedidos_satisfechos)\n",
        "print(\"Promedio de pedidos satisfechos al día:\", np.mean(pedidos_satisfechos))\n"
      ]
    }
  ]
}