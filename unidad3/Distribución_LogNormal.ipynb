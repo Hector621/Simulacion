{
  "nbformat": 4,
  "nbformat_minor": 0,
  "metadata": {
    "colab": {
      "provenance": []
    },
    "kernelspec": {
      "name": "python3",
      "display_name": "Python 3"
    },
    "language_info": {
      "name": "python"
    }
  },
  "cells": [
    {
      "cell_type": "code",
      "execution_count": 1,
      "metadata": {
        "id": "AfHieENpQec7",
        "outputId": "418ceb30-7f26-4636-b1d3-56bc2095942c",
        "colab": {
          "base_uri": "https://localhost:8080/"
        }
      },
      "outputs": [
        {
          "output_type": "stream",
          "name": "stdout",
          "text": [
            "Tiempos de espera de los clientes (minutos): [ 9.68406279  8.11527643  7.64848998 11.91360476  8.30648958 10.79777944\n",
            "  9.50782359 12.06569387 10.1854784  10.95414726  7.82692669 12.58648293\n",
            "  7.92604016 10.65112951  9.29474954 10.59450612  9.33774288  9.4358871\n",
            " 10.70417038 10.89763797  9.88451578  9.68711761 12.82990757 10.38625674\n",
            " 13.56140898  8.33168392  9.39486157 12.57099361 10.62057228 15.32525998\n",
            "  9.80078106 12.62802408  8.23422414  9.40636678  9.6078938   7.79566365\n",
            " 13.4494036   9.34065766 10.48379822 10.92664543 10.5599856   9.38985649\n",
            " 11.05579989  9.70204485  7.70970046  9.9387431  13.33337096  8.33900576\n",
            "  8.29154244  6.82142765]\n",
            "Promedio de tiempo de espera simulado: 10.156832660343564\n",
            "Desviación estándar de los tiempos de espera simulados: 1.7997807437093007\n"
          ]
        }
      ],
      "source": [
        "import numpy as np\n",
        "\n",
        "# Parámetros de la simulación\n",
        "promedio_espera = 10  # Tiempo promedio de espera en minutos\n",
        "desviacion_estandar = 2  # Desviación estándar de los tiempos de espera en minutos\n",
        "clientes = 50  # Número de clientes\n",
        "\n",
        "# Convertimos los parámetros a escala logarítmica\n",
        "mu = np.log(promedio_espera**2 / np.sqrt(desviacion_estandar**2 + promedio_espera**2))\n",
        "sigma = np.sqrt(np.log(1 + (desviacion_estandar**2 / promedio_espera**2)))\n",
        "\n",
        "# Generación de tiempos de espera\n",
        "tiempos_espera = np.random.lognormal(mean=mu, sigma=sigma, size=clientes)\n",
        "\n",
        "# Mostrar los resultados\n",
        "print(\"Tiempos de espera de los clientes (minutos):\", tiempos_espera)\n",
        "print(\"Promedio de tiempo de espera simulado:\", np.mean(tiempos_espera))\n",
        "print(\"Desviación estándar de los tiempos de espera simulados:\", np.std(tiempos_espera))\n"
      ]
    }
  ]
}