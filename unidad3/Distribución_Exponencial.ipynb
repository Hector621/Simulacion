{
  "nbformat": 4,
  "nbformat_minor": 0,
  "metadata": {
    "colab": {
      "provenance": []
    },
    "kernelspec": {
      "name": "python3",
      "display_name": "Python 3"
    },
    "language_info": {
      "name": "python"
    }
  },
  "cells": [
    {
      "cell_type": "code",
      "execution_count": 1,
      "metadata": {
        "colab": {
          "base_uri": "https://localhost:8080/"
        },
        "id": "-i1wK_XzPEAq",
        "outputId": "14e1441b-e55e-4487-c912-45a8cb752efe"
      },
      "outputs": [
        {
          "output_type": "stream",
          "name": "stdout",
          "text": [
            "Tiempos entre llegadas de vehículos eléctricos (minutos): [19.206214041855212, 12.152685251678834, 9.291800873515031, 5.278145656988925, 8.575409825993312, 3.0668470873156775, 15.815150375436623, 16.28798080290329, 8.87798588149854, 84.92705463017953, 0.5826215183339165, 28.037430369899784, 4.870289456766409, 7.333736451472368, 10.253904450194268, 49.01582228986491, 0.9240109068637559, 16.87133919468831, 9.674766525017017, 1.0330088926038252, 17.2867911593624, 23.628093062145783, 0.5609696559059665, 33.5520981915355, 3.397576096904082, 36.4360723035935, 0.3526691146466905, 18.002179896756285, 20.014495191327562, 70.37134115161247, 7.8399445152932214, 0.6957083715713267, 1.69425656533995, 14.659200302907152, 17.582098451404555, 11.420345861552063, 16.65157363330439, 1.1178519709187094, 10.264505910630664, 7.602626500238849, 8.263287533586535, 2.9313660764627856, 14.786066546102846, 6.08626623311505, 56.016502164468505, 5.671718691586016, 7.850637971377153]\n",
            "Número total de llegadas simuladas: 47\n",
            "Promedio de tiempo entre llegadas: 15.464094629930202\n"
          ]
        }
      ],
      "source": [
        "import numpy as np\n",
        "\n",
        "# Parámetros de la simulación\n",
        "promedio_llegada = 15  # Tiempo promedio entre llegadas en minutos\n",
        "tiempo_operacion = 12 * 60  # Duración del día en minutos (12 horas)\n",
        "tasa_llegada = 1 / promedio_llegada  # Tasa de llegada (lambda) en llegadas por minuto\n",
        "\n",
        "# Generación de tiempos entre llegadas hasta completar las 12 horas\n",
        "tiempos_entre_llegadas = []\n",
        "tiempo_total = 0\n",
        "\n",
        "# Simulación hasta llegar al tiempo de operación de 12 horas\n",
        "while tiempo_total < tiempo_operacion:\n",
        "    tiempo_entre_llegada = np.random.exponential(scale=promedio_llegada)\n",
        "    tiempos_entre_llegadas.append(tiempo_entre_llegada)\n",
        "    tiempo_total += tiempo_entre_llegada\n",
        "\n",
        "# Mostrar los resultados\n",
        "print(\"Tiempos entre llegadas de vehículos eléctricos (minutos):\", tiempos_entre_llegadas)\n",
        "print(\"Número total de llegadas simuladas:\", len(tiempos_entre_llegadas))\n",
        "print(\"Promedio de tiempo entre llegadas:\", np.mean(tiempos_entre_llegadas))\n"
      ]
    }
  ]
}